{
 "cells": [
  {
   "cell_type": "markdown",
   "metadata": {},
   "source": [
    "## 聚類分析: 多筆資料分類為幾個類似群體\n",
    "具體來說是市場的行銷手法，用於對客戶做區別（客戶分類）、定標（鎖定對象）\n",
    "\n",
    "## 主成分分析: 變數較多降維的方法\n",
    "\n",
    "## 購物籃分析: 商品組合 發生情況"
   ]
  },
  {
   "cell_type": "code",
   "execution_count": 1,
   "metadata": {},
   "outputs": [
    {
     "data": {
      "text/plain": [
       "'%.3f'"
      ]
     },
     "execution_count": 1,
     "metadata": {},
     "output_type": "execute_result"
    }
   ],
   "source": [
    "# 資料加工、處理、分析函式庫\n",
    "import numpy as np\n",
    "import numpy.random as random\n",
    "import scipy as sp\n",
    "from pandas import Series, DataFrame\n",
    "import pandas as pd\n",
    "\n",
    "\n",
    "#視覺化函式庫\n",
    "import matplotlib.pyplot as plt\n",
    "import matplotlib as mpl\n",
    "import seaborn as sns\n",
    "%matplotlib inline\n",
    "\n",
    "#machine-learning library\n",
    "import sklearn \n",
    "\n",
    "%precision 3"
   ]
  },
  {
   "cell_type": "code",
   "execution_count": 2,
   "metadata": {},
   "outputs": [
    {
     "data": {
      "text/plain": [
       "<matplotlib.collections.PathCollection at 0x138bfe350>"
      ]
     },
     "execution_count": 2,
     "metadata": {},
     "output_type": "execute_result"
    },
    {
     "data": {
      "image/png": "[encoded data removed]",
      "text/plain": [
       "<Figure size 432x288 with 1 Axes>"
      ]
     },
     "metadata": {
      "needs_background": "light"
     },
     "output_type": "display_data"
    }
   ],
   "source": [
    "#import kmeans \n",
    "from sklearn.cluster import KMeans\n",
    "\n",
    "#import datas\n",
    "from sklearn.datasets import make_blobs\n",
    "\n",
    "#Generate example data\n",
    "X, _ = make_blobs(random_state = 10)\n",
    "\n",
    "#描繪圖形 能以color參數來著色\n",
    "plt.scatter(X[:,0],X[:,1],color = 'black')"
   ]
  },
  {
   "cell_type": "code",
   "execution_count": 3,
   "metadata": {},
   "outputs": [],
   "source": [
    "# Kmeans 類別初始化\n",
    "kmeans = KMeans(init='random',n_clusters=3)\n",
    "\n",
    "# 計算群體重心\n",
    "kmeans.fit(X)\n",
    "\n",
    "# 預測群體編號\n",
    "y_pred = kmeans.predict(X)"
   ]
  },
  {
   "cell_type": "code",
   "execution_count": 4,
   "metadata": {},
   "outputs": [
    {
     "data": {
      "image/png": "[encoded data removed]",
      "text/plain": [
       "<Figure size 432x288 with 1 Axes>"
      ]
     },
     "metadata": {
      "needs_background": "light"
     },
     "output_type": "display_data"
    }
   ],
   "source": [
    "# 以concat 來橫向結合資料（指定axis = 1）\n",
    "merge_data = pd.concat([pd.DataFrame(X[:,0]), pd.DataFrame(X[:,1]), pd.DataFrame(y_pred)], axis=1)\n",
    "\n",
    "# 對於上述問題, 將 x 軸標籤\n",
    "merge_data.columns = ['feature1', 'feature2', 'cluster']\n",
    "\n",
    "# 聚類圖形化\n",
    "ax = None\n",
    "colors = ['blue', 'red', 'green']\n",
    "for i, data in merge_data.groupby('cluster'):\n",
    "    ax = data.plot.scatter(x ='feature1', y='feature2', color = colors[i], label=f'cluster{i}',ax=ax)"
   ]
  },
  {
   "cell_type": "code",
   "execution_count": 5,
   "metadata": {},
   "outputs": [],
   "source": [
    "import requests, zipfile \n",
    "import io\n",
    "\n",
    "zip_file_url = 'http://archive.ics.uci.edu/ml/machine-learning-databases/00222/bank.zip' \n",
    "\n",
    "r = requests.get(zip_file_url, stream=True)\n",
    "z = zipfile.ZipFile(io.BytesIO(r.content))\n",
    "z.extractall()"
   ]
  },
  {
   "cell_type": "code",
   "execution_count": 6,
   "metadata": {},
   "outputs": [
    {
     "data": {
      "text/html": [
       "<div>\n",
       "<style scoped>\n",
       "    .dataframe tbody tr th:only-of-type {\n",
       "        vertical-align: middle;\n",
       "    }\n",
       "\n",
       "    .dataframe tbody tr th {\n",
       "        vertical-align: top;\n",
       "    }\n",
       "\n",
       "    .dataframe thead th {\n",
       "        text-align: right;\n",
       "    }\n",
       "</style>\n",
       "<table border=\"1\" class=\"dataframe\">\n",
       "  <thead>\n",
       "    <tr style=\"text-align: right;\">\n",
       "      <th></th>\n",
       "      <th>age</th>\n",
       "      <th>job</th>\n",
       "      <th>marital</th>\n",
       "      <th>education</th>\n",
       "      <th>default</th>\n",
       "      <th>balance</th>\n",
       "      <th>housing</th>\n",
       "      <th>loan</th>\n",
       "      <th>contact</th>\n",
       "      <th>day</th>\n",
       "      <th>month</th>\n",
       "      <th>duration</th>\n",
       "      <th>campaign</th>\n",
       "      <th>pdays</th>\n",
       "      <th>previous</th>\n",
       "      <th>poutcome</th>\n",
       "      <th>y</th>\n",
       "    </tr>\n",
       "  </thead>\n",
       "  <tbody>\n",
       "    <tr>\n",
       "      <th>0</th>\n",
       "      <td>58</td>\n",
       "      <td>management</td>\n",
       "      <td>married</td>\n",
       "      <td>tertiary</td>\n",
       "      <td>no</td>\n",
       "      <td>2143</td>\n",
       "      <td>yes</td>\n",
       "      <td>no</td>\n",
       "      <td>unknown</td>\n",
       "      <td>5</td>\n",
       "      <td>may</td>\n",
       "      <td>261</td>\n",
       "      <td>1</td>\n",
       "      <td>-1</td>\n",
       "      <td>0</td>\n",
       "      <td>unknown</td>\n",
       "      <td>no</td>\n",
       "    </tr>\n",
       "    <tr>\n",
       "      <th>1</th>\n",
       "      <td>44</td>\n",
       "      <td>technician</td>\n",
       "      <td>single</td>\n",
       "      <td>secondary</td>\n",
       "      <td>no</td>\n",
       "      <td>29</td>\n",
       "      <td>yes</td>\n",
       "      <td>no</td>\n",
       "      <td>unknown</td>\n",
       "      <td>5</td>\n",
       "      <td>may</td>\n",
       "      <td>151</td>\n",
       "      <td>1</td>\n",
       "      <td>-1</td>\n",
       "      <td>0</td>\n",
       "      <td>unknown</td>\n",
       "      <td>no</td>\n",
       "    </tr>\n",
       "    <tr>\n",
       "      <th>2</th>\n",
       "      <td>33</td>\n",
       "      <td>entrepreneur</td>\n",
       "      <td>married</td>\n",
       "      <td>secondary</td>\n",
       "      <td>no</td>\n",
       "      <td>2</td>\n",
       "      <td>yes</td>\n",
       "      <td>yes</td>\n",
       "      <td>unknown</td>\n",
       "      <td>5</td>\n",
       "      <td>may</td>\n",
       "      <td>76</td>\n",
       "      <td>1</td>\n",
       "      <td>-1</td>\n",
       "      <td>0</td>\n",
       "      <td>unknown</td>\n",
       "      <td>no</td>\n",
       "    </tr>\n",
       "    <tr>\n",
       "      <th>3</th>\n",
       "      <td>47</td>\n",
       "      <td>blue-collar</td>\n",
       "      <td>married</td>\n",
       "      <td>unknown</td>\n",
       "      <td>no</td>\n",
       "      <td>1506</td>\n",
       "      <td>yes</td>\n",
       "      <td>no</td>\n",
       "      <td>unknown</td>\n",
       "      <td>5</td>\n",
       "      <td>may</td>\n",
       "      <td>92</td>\n",
       "      <td>1</td>\n",
       "      <td>-1</td>\n",
       "      <td>0</td>\n",
       "      <td>unknown</td>\n",
       "      <td>no</td>\n",
       "    </tr>\n",
       "    <tr>\n",
       "      <th>4</th>\n",
       "      <td>33</td>\n",
       "      <td>unknown</td>\n",
       "      <td>single</td>\n",
       "      <td>unknown</td>\n",
       "      <td>no</td>\n",
       "      <td>1</td>\n",
       "      <td>no</td>\n",
       "      <td>no</td>\n",
       "      <td>unknown</td>\n",
       "      <td>5</td>\n",
       "      <td>may</td>\n",
       "      <td>198</td>\n",
       "      <td>1</td>\n",
       "      <td>-1</td>\n",
       "      <td>0</td>\n",
       "      <td>unknown</td>\n",
       "      <td>no</td>\n",
       "    </tr>\n",
       "  </tbody>\n",
       "</table>\n",
       "</div>"
      ],
      "text/plain": [
       "   age           job  marital  education default  balance housing loan  \\\n",
       "0   58    management  married   tertiary      no     2143     yes   no   \n",
       "1   44    technician   single  secondary      no       29     yes   no   \n",
       "2   33  entrepreneur  married  secondary      no        2     yes  yes   \n",
       "3   47   blue-collar  married    unknown      no     1506     yes   no   \n",
       "4   33       unknown   single    unknown      no        1      no   no   \n",
       "\n",
       "   contact  day month  duration  campaign  pdays  previous poutcome   y  \n",
       "0  unknown    5   may       261         1     -1         0  unknown  no  \n",
       "1  unknown    5   may       151         1     -1         0  unknown  no  \n",
       "2  unknown    5   may        76         1     -1         0  unknown  no  \n",
       "3  unknown    5   may        92         1     -1         0  unknown  no  \n",
       "4  unknown    5   may       198         1     -1         0  unknown  no  "
      ]
     },
     "execution_count": 6,
     "metadata": {},
     "output_type": "execute_result"
    }
   ],
   "source": [
    "bank = pd.read_csv('bank-full.csv', sep=';')\n",
    "bank.head()"
   ]
  },
  {
   "cell_type": "code",
   "execution_count": 7,
   "metadata": {},
   "outputs": [
    {
     "name": "stdout",
     "output_type": "stream",
     "text": [
      "資料的形式(X,y):(45211, 17)\n",
      "遺漏資料的數量:0\n"
     ]
    }
   ],
   "source": [
    "print('資料的形式(X,y):{}'.format(bank.shape))\n",
    "print('遺漏資料的數量:{}'.format(bank.isnull().sum().sum()))"
   ]
  },
  {
   "cell_type": "code",
   "execution_count": 8,
   "metadata": {},
   "outputs": [
    {
     "name": "stdout",
     "output_type": "stream",
     "text": [
      "<class 'pandas.core.frame.DataFrame'>\n",
      "RangeIndex: 45211 entries, 0 to 45210\n",
      "Data columns (total 4 columns):\n",
      " #   Column    Non-Null Count  Dtype\n",
      "---  ------    --------------  -----\n",
      " 0   age       45211 non-null  int64\n",
      " 1   balance   45211 non-null  int64\n",
      " 2   campaign  45211 non-null  int64\n",
      " 3   previous  45211 non-null  int64\n",
      "dtypes: int64(4)\n",
      "memory usage: 1.4 MB\n"
     ]
    }
   ],
   "source": [
    "from sklearn.preprocessing import StandardScaler\n",
    "\n",
    "bank_sub = bank[['age','balance','campaign','previous']]\n",
    "\n",
    "sc = StandardScaler()\n",
    "sc.fit(bank_sub)\n",
    "bank_sub_std = sc.transform(bank_sub)\n",
    "bank_sub.info()"
   ]
  },
  {
   "cell_type": "code",
   "execution_count": 9,
   "metadata": {},
   "outputs": [
    {
     "name": "stdout",
     "output_type": "stream",
     "text": [
      "0    14406\n",
      "1    23608\n",
      "2     3842\n",
      "3     1373\n",
      "4     1282\n",
      "5      700\n",
      "Name: cluster_number, dtype: int64\n"
     ]
    },
    {
     "data": {
      "text/plain": [
       "Text(0, 0.5, 'count')"
      ]
     },
     "execution_count": 9,
     "metadata": {},
     "output_type": "execute_result"
    },
    {
     "data": {
      "image/png": "[encoded data removed]",
      "text/plain": [
       "<Figure size 432x288 with 1 Axes>"
      ]
     },
     "metadata": {
      "needs_background": "light"
     },
     "output_type": "display_data"
    }
   ],
   "source": [
    "# KMeans類別初始化\n",
    "kmeans = KMeans(init='random', n_clusters=6, random_state=0)\n",
    "\n",
    "kmeans.fit(bank_sub_std)\n",
    "\n",
    "labels = pd.Series(kmeans.labels_, name='cluster_number')\n",
    "\n",
    "print(labels.value_counts(sort=False))\n",
    "\n",
    "ax = labels.value_counts(sort=False).plot(kind='bar')\n",
    "ax.set_xlabel('cluster number')\n",
    "ax.set_ylabel('count')"
   ]
  },
  {
   "cell_type": "code",
   "execution_count": 10,
   "metadata": {},
   "outputs": [
    {
     "data": {
      "text/plain": [
       "Text(0, 0.5, 'Distortion')"
      ]
     },
     "execution_count": 10,
     "metadata": {},
     "output_type": "execute_result"
    },
    {
     "data": {
      "image/png": "[encoded data removed]",
      "text/plain": [
       "<Figure size 432x288 with 1 Axes>"
      ]
     },
     "metadata": {
      "needs_background": "light"
     },
     "output_type": "display_data"
    }
   ],
   "source": [
    "# elbow method (base on SSE)\n",
    "dist_list = []\n",
    "for i in range(1,10):\n",
    "    kmeans = KMeans(n_clusters=i, init='random', random_state=0)\n",
    "    kmeans.fit(X)\n",
    "    dist_list.append(kmeans.inertia_)\n",
    "    \n",
    "# 顯示圖形\n",
    "plt.plot(range(1,10), dist_list, marker='+')\n",
    "plt.xlabel('Number of clusters')\n",
    "plt.ylabel('Distortion')"
   ]
  },
  {
   "cell_type": "code",
   "execution_count": 11,
   "metadata": {},
   "outputs": [
    {
     "data": {
      "text/plain": [
       "Text(0, 0.5, 'Distortion')"
      ]
     },
     "execution_count": 11,
     "metadata": {},
     "output_type": "execute_result"
    },
    {
     "data": {
      "image/png": "[encoded data removed]",
      "text/plain": [
       "<Figure size 432x288 with 1 Axes>"
      ]
     },
     "metadata": {
      "needs_background": "light"
     },
     "output_type": "display_data"
    }
   ],
   "source": [
    "# elbow method\n",
    "dist_list = []\n",
    "for i in range(1,20):\n",
    "    kmeans = KMeans(n_clusters=i, init='random', random_state=0)\n",
    "    kmeans.fit(bank_sub_std)\n",
    "    dist_list.append(kmeans.inertia_)\n",
    "    \n",
    "# 顯示圖形\n",
    "plt.plot(range(1,20), dist_list, marker='+')\n",
    "plt.xlabel('Number of clusters')\n",
    "plt.ylabel('Distortion')"
   ]
  },
  {
   "cell_type": "markdown",
   "metadata": {},
   "source": [
    "### 聚類分析解釋 "
   ]
  },
  {
   "cell_type": "code",
   "execution_count": 12,
   "metadata": {},
   "outputs": [
    {
     "data": {
      "text/html": [
       "<div>\n",
       "<style scoped>\n",
       "    .dataframe tbody tr th:only-of-type {\n",
       "        vertical-align: middle;\n",
       "    }\n",
       "\n",
       "    .dataframe tbody tr th {\n",
       "        vertical-align: top;\n",
       "    }\n",
       "\n",
       "    .dataframe thead th {\n",
       "        text-align: right;\n",
       "    }\n",
       "</style>\n",
       "<table border=\"1\" class=\"dataframe\">\n",
       "  <thead>\n",
       "    <tr style=\"text-align: right;\">\n",
       "      <th></th>\n",
       "      <th>age</th>\n",
       "      <th>job</th>\n",
       "      <th>marital</th>\n",
       "      <th>education</th>\n",
       "      <th>default</th>\n",
       "      <th>balance</th>\n",
       "      <th>housing</th>\n",
       "      <th>loan</th>\n",
       "      <th>contact</th>\n",
       "      <th>day</th>\n",
       "      <th>month</th>\n",
       "      <th>duration</th>\n",
       "      <th>campaign</th>\n",
       "      <th>pdays</th>\n",
       "      <th>previous</th>\n",
       "      <th>poutcome</th>\n",
       "      <th>y</th>\n",
       "      <th>cluster_number</th>\n",
       "    </tr>\n",
       "  </thead>\n",
       "  <tbody>\n",
       "    <tr>\n",
       "      <th>0</th>\n",
       "      <td>58</td>\n",
       "      <td>management</td>\n",
       "      <td>married</td>\n",
       "      <td>tertiary</td>\n",
       "      <td>no</td>\n",
       "      <td>2143</td>\n",
       "      <td>yes</td>\n",
       "      <td>no</td>\n",
       "      <td>unknown</td>\n",
       "      <td>5</td>\n",
       "      <td>may</td>\n",
       "      <td>261</td>\n",
       "      <td>1</td>\n",
       "      <td>-1</td>\n",
       "      <td>0</td>\n",
       "      <td>unknown</td>\n",
       "      <td>no</td>\n",
       "      <td>0</td>\n",
       "    </tr>\n",
       "    <tr>\n",
       "      <th>1</th>\n",
       "      <td>44</td>\n",
       "      <td>technician</td>\n",
       "      <td>single</td>\n",
       "      <td>secondary</td>\n",
       "      <td>no</td>\n",
       "      <td>29</td>\n",
       "      <td>yes</td>\n",
       "      <td>no</td>\n",
       "      <td>unknown</td>\n",
       "      <td>5</td>\n",
       "      <td>may</td>\n",
       "      <td>151</td>\n",
       "      <td>1</td>\n",
       "      <td>-1</td>\n",
       "      <td>0</td>\n",
       "      <td>unknown</td>\n",
       "      <td>no</td>\n",
       "      <td>0</td>\n",
       "    </tr>\n",
       "    <tr>\n",
       "      <th>2</th>\n",
       "      <td>33</td>\n",
       "      <td>entrepreneur</td>\n",
       "      <td>married</td>\n",
       "      <td>secondary</td>\n",
       "      <td>no</td>\n",
       "      <td>2</td>\n",
       "      <td>yes</td>\n",
       "      <td>yes</td>\n",
       "      <td>unknown</td>\n",
       "      <td>5</td>\n",
       "      <td>may</td>\n",
       "      <td>76</td>\n",
       "      <td>1</td>\n",
       "      <td>-1</td>\n",
       "      <td>0</td>\n",
       "      <td>unknown</td>\n",
       "      <td>no</td>\n",
       "      <td>1</td>\n",
       "    </tr>\n",
       "    <tr>\n",
       "      <th>3</th>\n",
       "      <td>47</td>\n",
       "      <td>blue-collar</td>\n",
       "      <td>married</td>\n",
       "      <td>unknown</td>\n",
       "      <td>no</td>\n",
       "      <td>1506</td>\n",
       "      <td>yes</td>\n",
       "      <td>no</td>\n",
       "      <td>unknown</td>\n",
       "      <td>5</td>\n",
       "      <td>may</td>\n",
       "      <td>92</td>\n",
       "      <td>1</td>\n",
       "      <td>-1</td>\n",
       "      <td>0</td>\n",
       "      <td>unknown</td>\n",
       "      <td>no</td>\n",
       "      <td>0</td>\n",
       "    </tr>\n",
       "    <tr>\n",
       "      <th>4</th>\n",
       "      <td>33</td>\n",
       "      <td>unknown</td>\n",
       "      <td>single</td>\n",
       "      <td>unknown</td>\n",
       "      <td>no</td>\n",
       "      <td>1</td>\n",
       "      <td>no</td>\n",
       "      <td>no</td>\n",
       "      <td>unknown</td>\n",
       "      <td>5</td>\n",
       "      <td>may</td>\n",
       "      <td>198</td>\n",
       "      <td>1</td>\n",
       "      <td>-1</td>\n",
       "      <td>0</td>\n",
       "      <td>unknown</td>\n",
       "      <td>no</td>\n",
       "      <td>1</td>\n",
       "    </tr>\n",
       "  </tbody>\n",
       "</table>\n",
       "</div>"
      ],
      "text/plain": [
       "   age           job  marital  education default  balance housing loan  \\\n",
       "0   58    management  married   tertiary      no     2143     yes   no   \n",
       "1   44    technician   single  secondary      no       29     yes   no   \n",
       "2   33  entrepreneur  married  secondary      no        2     yes  yes   \n",
       "3   47   blue-collar  married    unknown      no     1506     yes   no   \n",
       "4   33       unknown   single    unknown      no        1      no   no   \n",
       "\n",
       "   contact  day month  duration  campaign  pdays  previous poutcome   y  \\\n",
       "0  unknown    5   may       261         1     -1         0  unknown  no   \n",
       "1  unknown    5   may       151         1     -1         0  unknown  no   \n",
       "2  unknown    5   may        76         1     -1         0  unknown  no   \n",
       "3  unknown    5   may        92         1     -1         0  unknown  no   \n",
       "4  unknown    5   may       198         1     -1         0  unknown  no   \n",
       "\n",
       "   cluster_number  \n",
       "0               0  \n",
       "1               0  \n",
       "2               1  \n",
       "3               0  \n",
       "4               1  "
      ]
     },
     "execution_count": 12,
     "metadata": {},
     "output_type": "execute_result"
    }
   ],
   "source": [
    "bank_with_cluster = pd.concat([bank, labels], axis=1)\n",
    "\n",
    "bank_with_cluster.head()"
   ]
  },
  {
   "cell_type": "code",
   "execution_count": 13,
   "metadata": {},
   "outputs": [
    {
     "data": {
      "text/html": [
       "<div>\n",
       "<style scoped>\n",
       "    .dataframe tbody tr th:only-of-type {\n",
       "        vertical-align: middle;\n",
       "    }\n",
       "\n",
       "    .dataframe tbody tr th {\n",
       "        vertical-align: top;\n",
       "    }\n",
       "\n",
       "    .dataframe thead th {\n",
       "        text-align: right;\n",
       "    }\n",
       "</style>\n",
       "<table border=\"1\" class=\"dataframe\">\n",
       "  <thead>\n",
       "    <tr style=\"text-align: right;\">\n",
       "      <th>age</th>\n",
       "      <th>[15, 20)</th>\n",
       "      <th>[20, 25)</th>\n",
       "      <th>[25, 30)</th>\n",
       "      <th>[30, 35)</th>\n",
       "      <th>[35, 40)</th>\n",
       "      <th>[40, 45)</th>\n",
       "      <th>[45, 50)</th>\n",
       "      <th>[50, 55)</th>\n",
       "      <th>[55, 60)</th>\n",
       "      <th>[60, 65)</th>\n",
       "      <th>[65, 100)</th>\n",
       "    </tr>\n",
       "    <tr>\n",
       "      <th>cluster_number</th>\n",
       "      <th></th>\n",
       "      <th></th>\n",
       "      <th></th>\n",
       "      <th></th>\n",
       "      <th></th>\n",
       "      <th></th>\n",
       "      <th></th>\n",
       "      <th></th>\n",
       "      <th></th>\n",
       "      <th></th>\n",
       "      <th></th>\n",
       "    </tr>\n",
       "  </thead>\n",
       "  <tbody>\n",
       "    <tr>\n",
       "      <th>0</th>\n",
       "      <td>0</td>\n",
       "      <td>0</td>\n",
       "      <td>0</td>\n",
       "      <td>0</td>\n",
       "      <td>0</td>\n",
       "      <td>1023</td>\n",
       "      <td>4490</td>\n",
       "      <td>3833</td>\n",
       "      <td>3475</td>\n",
       "      <td>850</td>\n",
       "      <td>735</td>\n",
       "    </tr>\n",
       "    <tr>\n",
       "      <th>1</th>\n",
       "      <td>45</td>\n",
       "      <td>705</td>\n",
       "      <td>3965</td>\n",
       "      <td>8221</td>\n",
       "      <td>6731</td>\n",
       "      <td>3941</td>\n",
       "      <td>0</td>\n",
       "      <td>0</td>\n",
       "      <td>0</td>\n",
       "      <td>0</td>\n",
       "      <td>0</td>\n",
       "    </tr>\n",
       "    <tr>\n",
       "      <th>2</th>\n",
       "      <td>1</td>\n",
       "      <td>20</td>\n",
       "      <td>230</td>\n",
       "      <td>788</td>\n",
       "      <td>956</td>\n",
       "      <td>718</td>\n",
       "      <td>598</td>\n",
       "      <td>328</td>\n",
       "      <td>170</td>\n",
       "      <td>29</td>\n",
       "      <td>4</td>\n",
       "    </tr>\n",
       "    <tr>\n",
       "      <th>3</th>\n",
       "      <td>0</td>\n",
       "      <td>20</td>\n",
       "      <td>129</td>\n",
       "      <td>327</td>\n",
       "      <td>306</td>\n",
       "      <td>186</td>\n",
       "      <td>145</td>\n",
       "      <td>117</td>\n",
       "      <td>71</td>\n",
       "      <td>38</td>\n",
       "      <td>34</td>\n",
       "    </tr>\n",
       "    <tr>\n",
       "      <th>4</th>\n",
       "      <td>0</td>\n",
       "      <td>11</td>\n",
       "      <td>74</td>\n",
       "      <td>240</td>\n",
       "      <td>219</td>\n",
       "      <td>203</td>\n",
       "      <td>156</td>\n",
       "      <td>140</td>\n",
       "      <td>155</td>\n",
       "      <td>48</td>\n",
       "      <td>36</td>\n",
       "    </tr>\n",
       "    <tr>\n",
       "      <th>5</th>\n",
       "      <td>1</td>\n",
       "      <td>6</td>\n",
       "      <td>66</td>\n",
       "      <td>164</td>\n",
       "      <td>137</td>\n",
       "      <td>114</td>\n",
       "      <td>81</td>\n",
       "      <td>70</td>\n",
       "      <td>51</td>\n",
       "      <td>9</td>\n",
       "      <td>1</td>\n",
       "    </tr>\n",
       "  </tbody>\n",
       "</table>\n",
       "</div>"
      ],
      "text/plain": [
       "age             [15, 20)   [20, 25)   [25, 30)   [30, 35)   [35, 40)   \\\n",
       "cluster_number                                                          \n",
       "0                       0          0          0          0          0   \n",
       "1                      45        705       3965       8221       6731   \n",
       "2                       1         20        230        788        956   \n",
       "3                       0         20        129        327        306   \n",
       "4                       0         11         74        240        219   \n",
       "5                       1          6         66        164        137   \n",
       "\n",
       "age             [40, 45)   [45, 50)   [50, 55)   [55, 60)   [60, 65)   \\\n",
       "cluster_number                                                          \n",
       "0                    1023       4490       3833       3475        850   \n",
       "1                    3941          0          0          0          0   \n",
       "2                     718        598        328        170         29   \n",
       "3                     186        145        117         71         38   \n",
       "4                     203        156        140        155         48   \n",
       "5                     114         81         70         51          9   \n",
       "\n",
       "age             [65, 100)  \n",
       "cluster_number             \n",
       "0                     735  \n",
       "1                       0  \n",
       "2                       4  \n",
       "3                      34  \n",
       "4                      36  \n",
       "5                       1  "
      ]
     },
     "execution_count": 13,
     "metadata": {},
     "output_type": "execute_result"
    }
   ],
   "source": [
    "# 分割區隔\n",
    "bins =[15, 20, 25, 30, 35, 40, 45, 50, 55, 60, 65, 100]\n",
    "\n",
    "# qcut_age變數設定年齡層\n",
    "qcut_age = pd.cut(bank_with_cluster.age, bins, right=False)\n",
    "\n",
    "# 結合群體編號與年齡層\n",
    "df = pd.concat([bank_with_cluster.cluster_number, qcut_age], axis=1)\n",
    "\n",
    "cross_cluster_age = df.groupby(['cluster_number', 'age']).size().unstack().fillna(0)\n",
    "cross_cluster_age"
   ]
  },
  {
   "cell_type": "code",
   "execution_count": 14,
   "metadata": {},
   "outputs": [
    {
     "data": {
      "text/plain": [
       "[30, 35)     9740\n",
       "[35, 40)     8349\n",
       "[40, 45)     6185\n",
       "[45, 50)     5470\n",
       "[50, 55)     4488\n",
       "[25, 30)     4464\n",
       "[55, 60)     3922\n",
       "[60, 65)      974\n",
       "[65, 100)     810\n",
       "[20, 25)      762\n",
       "[15, 20)       47\n",
       "Name: age, dtype: int64"
      ]
     },
     "execution_count": 14,
     "metadata": {},
     "output_type": "execute_result"
    }
   ],
   "source": [
    "hist_age = pd.value_counts(qcut_age)\n",
    "hist_age"
   ]
  },
  {
   "cell_type": "code",
   "execution_count": 15,
   "metadata": {},
   "outputs": [
    {
     "data": {
      "text/plain": [
       "<AxesSubplot:xlabel='age', ylabel='cluster_number'>"
      ]
     },
     "execution_count": 15,
     "metadata": {},
     "output_type": "execute_result"
    },
    {
     "data": {
      "image/png": "[encoded data removed]",
      "text/plain": [
       "<Figure size 432x288 with 2 Axes>"
      ]
     },
     "metadata": {
      "needs_background": "light"
     },
     "output_type": "display_data"
    }
   ],
   "source": [
    "sns.heatmap(cross_cluster_age.apply(lambda x : x/x.sum(), axis=1), cmap='Blues')"
   ]
  },
  {
   "cell_type": "code",
   "execution_count": 16,
   "metadata": {},
   "outputs": [
    {
     "data": {
      "text/html": [
       "<div>\n",
       "<style scoped>\n",
       "    .dataframe tbody tr th:only-of-type {\n",
       "        vertical-align: middle;\n",
       "    }\n",
       "\n",
       "    .dataframe tbody tr th {\n",
       "        vertical-align: top;\n",
       "    }\n",
       "\n",
       "    .dataframe thead th {\n",
       "        text-align: right;\n",
       "    }\n",
       "</style>\n",
       "<table border=\"1\" class=\"dataframe\">\n",
       "  <thead>\n",
       "    <tr style=\"text-align: right;\">\n",
       "      <th>job</th>\n",
       "      <th>admin.</th>\n",
       "      <th>blue-collar</th>\n",
       "      <th>entrepreneur</th>\n",
       "      <th>housemaid</th>\n",
       "      <th>management</th>\n",
       "      <th>retired</th>\n",
       "      <th>self-employed</th>\n",
       "      <th>services</th>\n",
       "      <th>student</th>\n",
       "      <th>technician</th>\n",
       "      <th>unemployed</th>\n",
       "      <th>unknown</th>\n",
       "    </tr>\n",
       "    <tr>\n",
       "      <th>cluster_number</th>\n",
       "      <th></th>\n",
       "      <th></th>\n",
       "      <th></th>\n",
       "      <th></th>\n",
       "      <th></th>\n",
       "      <th></th>\n",
       "      <th></th>\n",
       "      <th></th>\n",
       "      <th></th>\n",
       "      <th></th>\n",
       "      <th></th>\n",
       "      <th></th>\n",
       "    </tr>\n",
       "  </thead>\n",
       "  <tbody>\n",
       "    <tr>\n",
       "      <th>0</th>\n",
       "      <td>1408</td>\n",
       "      <td>2906</td>\n",
       "      <td>528</td>\n",
       "      <td>651</td>\n",
       "      <td>2723</td>\n",
       "      <td>2005</td>\n",
       "      <td>476</td>\n",
       "      <td>1072</td>\n",
       "      <td>3</td>\n",
       "      <td>2048</td>\n",
       "      <td>432</td>\n",
       "      <td>154</td>\n",
       "    </tr>\n",
       "    <tr>\n",
       "      <th>1</th>\n",
       "      <td>3005</td>\n",
       "      <td>5385</td>\n",
       "      <td>698</td>\n",
       "      <td>409</td>\n",
       "      <td>4932</td>\n",
       "      <td>55</td>\n",
       "      <td>820</td>\n",
       "      <td>2474</td>\n",
       "      <td>812</td>\n",
       "      <td>4256</td>\n",
       "      <td>687</td>\n",
       "      <td>75</td>\n",
       "    </tr>\n",
       "    <tr>\n",
       "      <th>2</th>\n",
       "      <td>392</td>\n",
       "      <td>862</td>\n",
       "      <td>146</td>\n",
       "      <td>108</td>\n",
       "      <td>896</td>\n",
       "      <td>60</td>\n",
       "      <td>139</td>\n",
       "      <td>371</td>\n",
       "      <td>42</td>\n",
       "      <td>701</td>\n",
       "      <td>91</td>\n",
       "      <td>34</td>\n",
       "    </tr>\n",
       "    <tr>\n",
       "      <th>3</th>\n",
       "      <td>193</td>\n",
       "      <td>239</td>\n",
       "      <td>42</td>\n",
       "      <td>21</td>\n",
       "      <td>335</td>\n",
       "      <td>53</td>\n",
       "      <td>42</td>\n",
       "      <td>113</td>\n",
       "      <td>53</td>\n",
       "      <td>244</td>\n",
       "      <td>33</td>\n",
       "      <td>5</td>\n",
       "    </tr>\n",
       "    <tr>\n",
       "      <th>4</th>\n",
       "      <td>109</td>\n",
       "      <td>175</td>\n",
       "      <td>54</td>\n",
       "      <td>36</td>\n",
       "      <td>417</td>\n",
       "      <td>77</td>\n",
       "      <td>71</td>\n",
       "      <td>69</td>\n",
       "      <td>22</td>\n",
       "      <td>192</td>\n",
       "      <td>49</td>\n",
       "      <td>11</td>\n",
       "    </tr>\n",
       "    <tr>\n",
       "      <th>5</th>\n",
       "      <td>64</td>\n",
       "      <td>165</td>\n",
       "      <td>19</td>\n",
       "      <td>15</td>\n",
       "      <td>155</td>\n",
       "      <td>14</td>\n",
       "      <td>31</td>\n",
       "      <td>55</td>\n",
       "      <td>6</td>\n",
       "      <td>156</td>\n",
       "      <td>11</td>\n",
       "      <td>9</td>\n",
       "    </tr>\n",
       "  </tbody>\n",
       "</table>\n",
       "</div>"
      ],
      "text/plain": [
       "job             admin.  blue-collar  entrepreneur  housemaid  management  \\\n",
       "cluster_number                                                             \n",
       "0                 1408         2906           528        651        2723   \n",
       "1                 3005         5385           698        409        4932   \n",
       "2                  392          862           146        108         896   \n",
       "3                  193          239            42         21         335   \n",
       "4                  109          175            54         36         417   \n",
       "5                   64          165            19         15         155   \n",
       "\n",
       "job             retired  self-employed  services  student  technician  \\\n",
       "cluster_number                                                          \n",
       "0                  2005            476      1072        3        2048   \n",
       "1                    55            820      2474      812        4256   \n",
       "2                    60            139       371       42         701   \n",
       "3                    53             42       113       53         244   \n",
       "4                    77             71        69       22         192   \n",
       "5                    14             31        55        6         156   \n",
       "\n",
       "job             unemployed  unknown  \n",
       "cluster_number                       \n",
       "0                      432      154  \n",
       "1                      687       75  \n",
       "2                       91       34  \n",
       "3                       33        5  \n",
       "4                       49       11  \n",
       "5                       11        9  "
      ]
     },
     "execution_count": 16,
     "metadata": {},
     "output_type": "execute_result"
    }
   ],
   "source": [
    "cross_cluster_job = bank_with_cluster.groupby(['cluster_number', 'job']).size().unstack().fillna(0)\n",
    "cross_cluster_job"
   ]
  },
  {
   "cell_type": "code",
   "execution_count": 17,
   "metadata": {},
   "outputs": [
    {
     "data": {
      "text/plain": [
       "<AxesSubplot:xlabel='job', ylabel='cluster_number'>"
      ]
     },
     "execution_count": 17,
     "metadata": {},
     "output_type": "execute_result"
    },
    {
     "data": {
      "image/png": "[encoded data removed]",
      "text/plain": [
       "<Figure size 432x288 with 2 Axes>"
      ]
     },
     "metadata": {
      "needs_background": "light"
     },
     "output_type": "display_data"
    }
   ],
   "source": [
    "sns.heatmap(cross_cluster_job.apply(lambda x : x/x.sum(), axis=1), cmap='Reds')"
   ]
  },
  {
   "cell_type": "markdown",
   "metadata": {},
   "source": [
    "# 主成分分析"
   ]
  },
  {
   "cell_type": "code",
   "execution_count": 18,
   "metadata": {},
   "outputs": [
    {
     "name": "stdout",
     "output_type": "stream",
     "text": [
      "相關係數:0.889\n"
     ]
    },
    {
     "data": {
      "text/plain": [
       "<matplotlib.collections.PathCollection at 0x159446550>"
      ]
     },
     "execution_count": 18,
     "metadata": {},
     "output_type": "execute_result"
    },
    {
     "data": {
      "image/png": "[encoded data removed]",
      "text/plain": [
       "<Figure size 432x288 with 1 Axes>"
      ]
     },
     "metadata": {
      "needs_background": "light"
     },
     "output_type": "display_data"
    }
   ],
   "source": [
    "from sklearn.preprocessing import StandardScaler\n",
    "\n",
    "# 製作RandomState物件\n",
    "sample=np.random.RandomState(1)\n",
    "\n",
    "# 生成2個亂數\n",
    "X = np.dot(sample.rand(2, 2),sample.randn(2, 200)).T\n",
    "\n",
    "# 標準化\n",
    "sc = StandardScaler()\n",
    "X_std = sc.fit_transform(X)\n",
    "\n",
    "# 計算相關係數與圖形化\n",
    "print('相關係數:{:.3f}'.format(sp.stats.pearsonr(X_std[:,0],X_std[:,1])[0]))\n",
    "plt.scatter(X_std[:,0],X_std[:,1])"
   ]
  },
  {
   "cell_type": "markdown",
   "metadata": {},
   "source": [
    "機器學習是希望用PCA達到dimension reduction的目的\n",
    "\n",
    "主要是避免 Hughes 現象(Hughes Phenomenon) / 維度詛咒(curse of dimensionality)"
   ]
  },
  {
   "cell_type": "code",
   "execution_count": 19,
   "metadata": {},
   "outputs": [
    {
     "data": {
      "text/plain": [
       "PCA(n_components=2)"
      ]
     },
     "execution_count": 19,
     "metadata": {},
     "output_type": "execute_result"
    }
   ],
   "source": [
    "from sklearn.decomposition import PCA\n",
    "\n",
    "# 主成分分析\n",
    "pca =PCA(n_components=2)   #上面生成2個亂數 所以這邊n =2\n",
    "pca.fit(X_std)"
   ]
  },
  {
   "cell_type": "code",
   "execution_count": 20,
   "metadata": {},
   "outputs": [
    {
     "name": "stdout",
     "output_type": "stream",
     "text": [
      "[[-0.707 -0.707]\n",
      " [-0.707  0.707]]\n"
     ]
    }
   ],
   "source": [
    "print(pca.components_)"
   ]
  },
  {
   "cell_type": "markdown",
   "metadata": {},
   "source": [
    "## PCA example"
   ]
  },
  {
   "cell_type": "code",
   "execution_count": 21,
   "metadata": {},
   "outputs": [
    {
     "data": {
      "image/png": "[encoded data removed]",
      "text/plain": [
       "<Figure size 1440x1440 with 30 Axes>"
      ]
     },
     "metadata": {
      "needs_background": "light"
     },
     "output_type": "display_data"
    }
   ],
   "source": [
    "# import data of breast cancer\n",
    "from sklearn.datasets import load_breast_cancer\n",
    "\n",
    "# load data\n",
    "cancer = load_breast_cancer()\n",
    "\n",
    "# malignant, benign 過濾\n",
    "# malignant cancer.target = 0\n",
    "malignant = cancer.data[cancer.target==0]\n",
    "\n",
    "# malignant cancer.target = 1\n",
    "benign = cancer.data[cancer.target==1]\n",
    "\n",
    "fig, axes = plt.subplots(6, 5, figsize=(20,20))\n",
    "ax = axes.ravel()\n",
    "for i in range(30):\n",
    "    _,bins = np.histogram(cancer.data[:,i], bins=50)\n",
    "    ax[i].hist(malignant[:,i], bins, alpha = .5)\n",
    "    ax[i].hist(benign[:,i], bins, alpha = .5)\n",
    "    ax[i].set_title(cancer.feature_names[i])\n",
    "    ax[i].set_yticks(())\n",
    "    \n",
    "# set labels\n",
    "ax[0].set_ylabel('Count')\n",
    "ax[0].legend(['malignant','benign'], loc='best')\n",
    "fig.tight_layout()"
   ]
  },
  {
   "cell_type": "code",
   "execution_count": 25,
   "metadata": {},
   "outputs": [
    {
     "name": "stdout",
     "output_type": "stream",
     "text": [
      "X_pca sape:(569, 2)\n",
      "Expained variance ratio:[0.443 0.19 ]\n"
     ]
    }
   ],
   "source": [
    "# 標準化\n",
    "sc = StandardScaler()\n",
    "X_std = sc.fit_transform(cancer.data)\n",
    "\n",
    "# 主成份分析\n",
    "pca = PCA(n_components=2)\n",
    "pca.fit(X_std)\n",
    "X_pca = pca.transform(X_std)\n",
    "\n",
    "# 顯示\n",
    "print('X_pca sape:{}'.format(X_pca.shape))\n",
    "print('Expained variance ratio:{}'.format(pca.explained_variance_ratio_))"
   ]
  },
  {
   "cell_type": "code",
   "execution_count": 28,
   "metadata": {},
   "outputs": [],
   "source": [
    "# 對行附加標籤,第1個為第一主成分,第2個為第2主成分\n",
    "X_pca = pd.DataFrame(X_pca, columns=['pc1','pc2'])\n",
    "\n",
    "# 對上述資料附加目標變數(cancer.target),在橫向結合\n",
    "X_pca = pd.concat([X_pca, pd.DataFrame(cancer.target, columns=['target'])], axis =1)\n",
    "\n",
    "# 分良性、惡性\n",
    "pca_malignant = X_pca[X_pca['target']==0]\n",
    "pca_benign = X_pca[X_pca['target']==1]"
   ]
  },
  {
   "cell_type": "code",
   "execution_count": 30,
   "metadata": {},
   "outputs": [
    {
     "data": {
      "text/plain": [
       "<AxesSubplot:xlabel='pc1', ylabel='pc2'>"
      ]
     },
     "execution_count": 30,
     "metadata": {},
     "output_type": "execute_result"
    },
    {
     "data": {
      "image/png": "[encoded data removed]",
      "text/plain": [
       "<Figure size 432x288 with 1 Axes>"
      ]
     },
     "metadata": {
      "needs_background": "light"
     },
     "output_type": "display_data"
    }
   ],
   "source": [
    "#描繪惡性\n",
    "ax = pca_malignant.plot.scatter(x='pc1', y='pc2', color='red', label='malignant')\n",
    "\n",
    "#描繪良性\n",
    "pca_benign.plot.scatter(x='pc1', y='pc2', color='blue', label='benign', ax=ax)"
   ]
  }
 ],
 "metadata": {
  "celltoolbar": "Raw Cell Format",
  "kernelspec": {
   "display_name": "Python 3",
   "language": "python",
   "name": "python3"
  },
  "language_info": {
   "codemirror_mode": {
    "name": "ipython",
    "version": 3
   },
   "file_extension": ".py",
   "mimetype": "text/x-python",
   "name": "python",
   "nbconvert_exporter": "python",
   "pygments_lexer": "ipython3",
   "version": "3.7.8"
  }
 },
 "nbformat": 4,
 "nbformat_minor": 4
}
